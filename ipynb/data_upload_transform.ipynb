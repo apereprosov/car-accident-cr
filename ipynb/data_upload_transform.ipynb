{
 "cells": [
  {
   "cell_type": "markdown",
   "metadata": {
    "id": "jqneWi5K7BVP"
   },
   "source": [
    "# Data Loading, Cleaning and Transforming"
   ]
  },
  {
   "cell_type": "markdown",
   "metadata": {
    "id": "eGq_CuA1kgxJ"
   },
   "source": [
    "## Libraries"
   ]
  },
  {
   "cell_type": "code",
   "execution_count": 90,
   "metadata": {
    "id": "_t7hwwfVO-5U"
   },
   "outputs": [],
   "source": [
    "import pandas as pd\n",
    "import numpy as np\n",
    "import os\n",
    "import deepl\n",
    "import config"
   ]
  },
  {
   "cell_type": "markdown",
   "metadata": {
    "id": "3WEh7YJ7bUMT"
   },
   "source": [
    "## Data Installing and Cleaning"
   ]
  },
  {
   "cell_type": "code",
   "execution_count": 91,
   "metadata": {
    "id": "2llsAJGRb7iL"
   },
   "outputs": [],
   "source": [
    "car_columns = \"p1,p36,p37,p2a,weekday(p2a),p2b,p6,p7,p8,p9,p10,p11,p12,p13a,p13b,p13c,p14,p15,p16,p17,p18,p19,p20,p21,p22,p23,p24,p27,p28,p34,p35,p39,p44,p45a,p47,p48a,p49,p50a,p50b,p51,p52,p53,p55a,p57,p58,a,b,d,e,f,g,h,i,j,k,l,n,o,p,q,r,s,t,p5a\".split(',')\n",
    "pedestrian_col = ['p1','p29','p30','p31','p32']\n",
    "\n",
    "drop_cols = ['weekday(p2a)','a', 'b', 'd', 'e','f', 'g', 'j', 'l', 'n', 'o', 'p', 'q', 'r', 's', 't']"
   ]
  },
  {
   "cell_type": "markdown",
   "metadata": {
    "id": "ajL_liQAc1wt"
   },
   "source": [
    "Unfortunately the documents didn't say what these letters meant, so some are still a mystery to me"
   ]
  },
  {
   "cell_type": "code",
   "execution_count": 92,
   "metadata": {
    "id": "OZl_cJAH9mrk"
   },
   "outputs": [],
   "source": [
    "files_path = '../data/raw/'"
   ]
  },
  {
   "cell_type": "code",
   "execution_count": 93,
   "metadata": {
    "id": "W27JcMbeMuEa"
   },
   "outputs": [],
   "source": [
    "car_data = []\n",
    "pedestrian_data = []\n",
    "\n",
    "folders = os.listdir(files_path)\n",
    "folders = list(filter(lambda x: x.find('.') != 0,folders))\n",
    "\n",
    "for folder in folders:\n",
    "  folder_path = files_path + folder + '/'\n",
    "  csvs = os.listdir(folder_path)\n",
    "  for csv in csvs:\n",
    "    csv_path = folder_path+csv\n",
    "# create chunks for each csv file(will be faster)\n",
    "    if csv == 'CHODCI.csv':\n",
    "      chodci_chunk = pd.read_csv(csv_path,sep=';',\n",
    "                                  names=pedestrian_col,\n",
    "                                  encoding='Windows-1250',\n",
    "                                  dtype=str,chunksize=10000)\n",
    "      [pedestrian_data.append(chunk) for chunk in chodci_chunk]\n",
    "    else:\n",
    "      chunks = pd.read_csv(csv_path, sep=';',\n",
    "                            names=car_columns,\n",
    "                            encoding='Windows-1250',\n",
    "                            dtype=str, chunksize=10000)\n",
    "      [car_data.append(chunk) for chunk in chunks]\n",
    "\n",
    "df = pd.concat(car_data,ignore_index=True)\n",
    "df_pedestrian = pd.concat(pedestrian_data,ignore_index=True)"
   ]
  },
  {
   "cell_type": "code",
   "execution_count": 94,
   "metadata": {
    "colab": {
     "base_uri": "https://localhost:8080/"
    },
    "id": "HfIVkDUxTZyy",
    "outputId": "bd9eebb5-19ab-41ef-cc0b-91e1dbbb059f"
   },
   "outputs": [
    {
     "name": "stdout",
     "output_type": "stream",
     "text": [
      "<class 'pandas.core.frame.DataFrame'>\n",
      "RangeIndex: 707027 entries, 0 to 707026\n",
      "Data columns (total 64 columns):\n",
      " #   Column        Non-Null Count   Dtype \n",
      "---  ------        --------------   ----- \n",
      " 0   p1            707027 non-null  object\n",
      " 1   p36           707027 non-null  object\n",
      " 2   p37           329366 non-null  object\n",
      " 3   p2a           707027 non-null  object\n",
      " 4   weekday(p2a)  707027 non-null  object\n",
      " 5   p2b           707027 non-null  object\n",
      " 6   p6            707027 non-null  object\n",
      " 7   p7            707027 non-null  object\n",
      " 8   p8            707027 non-null  object\n",
      " 9   p9            707027 non-null  object\n",
      " 10  p10           707027 non-null  object\n",
      " 11  p11           707027 non-null  object\n",
      " 12  p12           707027 non-null  object\n",
      " 13  p13a          707027 non-null  object\n",
      " 14  p13b          707027 non-null  object\n",
      " 15  p13c          707027 non-null  object\n",
      " 16  p14           707027 non-null  object\n",
      " 17  p15           707025 non-null  object\n",
      " 18  p16           707025 non-null  object\n",
      " 19  p17           707025 non-null  object\n",
      " 20  p18           707025 non-null  object\n",
      " 21  p19           707025 non-null  object\n",
      " 22  p20           707025 non-null  object\n",
      " 23  p21           707027 non-null  object\n",
      " 24  p22           707027 non-null  object\n",
      " 25  p23           707027 non-null  object\n",
      " 26  p24           707027 non-null  object\n",
      " 27  p27           707027 non-null  object\n",
      " 28  p28           707027 non-null  object\n",
      " 29  p34           707027 non-null  object\n",
      " 30  p35           707027 non-null  object\n",
      " 31  p39           82367 non-null   object\n",
      " 32  p44           707027 non-null  object\n",
      " 33  p45a          585343 non-null  object\n",
      " 34  p47           675353 non-null  object\n",
      " 35  p48a          582967 non-null  object\n",
      " 36  p49           582971 non-null  object\n",
      " 37  p50a          585045 non-null  object\n",
      " 38  p50b          582968 non-null  object\n",
      " 39  p51           582967 non-null  object\n",
      " 40  p52           586791 non-null  object\n",
      " 41  p53           707027 non-null  object\n",
      " 42  p55a          582949 non-null  object\n",
      " 43  p57           562074 non-null  object\n",
      " 44  p58           562072 non-null  object\n",
      " 45  a             473444 non-null  object\n",
      " 46  b             473444 non-null  object\n",
      " 47  d             705107 non-null  object\n",
      " 48  e             705107 non-null  object\n",
      " 49  f             682206 non-null  object\n",
      " 50  g             682206 non-null  object\n",
      " 51  h             478700 non-null  object\n",
      " 52  i             391817 non-null  object\n",
      " 53  j             15292 non-null   object\n",
      " 54  k             700689 non-null  object\n",
      " 55  l             338495 non-null  object\n",
      " 56  n             557055 non-null  object\n",
      " 57  o             1372 non-null    object\n",
      " 58  p             524691 non-null  object\n",
      " 59  q             557055 non-null  object\n",
      " 60  r             573308 non-null  object\n",
      " 61  s             264336 non-null  object\n",
      " 62  t             558653 non-null  object\n",
      " 63  p5a           707027 non-null  object\n",
      "dtypes: object(64)\n",
      "memory usage: 345.2+ MB\n"
     ]
    }
   ],
   "source": [
    "df.info()"
   ]
  },
  {
   "cell_type": "code",
   "execution_count": 95,
   "metadata": {
    "id": "_CPJhOmQFs9M"
   },
   "outputs": [],
   "source": [
    "df = df.drop(drop_cols,axis=1)"
   ]
  },
  {
   "cell_type": "code",
   "execution_count": 96,
   "metadata": {
    "colab": {
     "base_uri": "https://localhost:8080/"
    },
    "id": "YIWQQ1lzJgYA",
    "outputId": "27a48521-8d99-4d3f-dc1d-f736c0b75d33"
   },
   "outputs": [
    {
     "data": {
      "text/plain": [
       "4"
      ]
     },
     "execution_count": 96,
     "metadata": {},
     "output_type": "execute_result"
    }
   ],
   "source": [
    "df.duplicated().sum()"
   ]
  },
  {
   "cell_type": "code",
   "execution_count": 97,
   "metadata": {
    "colab": {
     "base_uri": "https://localhost:8080/",
     "height": 173
    },
    "id": "u3SFxM1NhPKh",
    "outputId": "fddd863a-1300-4d78-9cdd-4fad0b0e57bc"
   },
   "outputs": [
    {
     "data": {
      "text/html": [
       "<div>\n",
       "<style scoped>\n",
       "    .dataframe tbody tr th:only-of-type {\n",
       "        vertical-align: middle;\n",
       "    }\n",
       "\n",
       "    .dataframe tbody tr th {\n",
       "        vertical-align: top;\n",
       "    }\n",
       "\n",
       "    .dataframe thead th {\n",
       "        text-align: right;\n",
       "    }\n",
       "</style>\n",
       "<table border=\"1\" class=\"dataframe\">\n",
       "  <thead>\n",
       "    <tr style=\"text-align: right;\">\n",
       "      <th></th>\n",
       "      <th>p1</th>\n",
       "      <th>p36</th>\n",
       "      <th>p37</th>\n",
       "      <th>p2a</th>\n",
       "      <th>p2b</th>\n",
       "      <th>p6</th>\n",
       "      <th>p7</th>\n",
       "      <th>p8</th>\n",
       "      <th>p9</th>\n",
       "      <th>p10</th>\n",
       "      <th>...</th>\n",
       "      <th>p51</th>\n",
       "      <th>p52</th>\n",
       "      <th>p53</th>\n",
       "      <th>p55a</th>\n",
       "      <th>p57</th>\n",
       "      <th>p58</th>\n",
       "      <th>h</th>\n",
       "      <th>i</th>\n",
       "      <th>k</th>\n",
       "      <th>p5a</th>\n",
       "    </tr>\n",
       "  </thead>\n",
       "  <tbody>\n",
       "    <tr>\n",
       "      <th>0</th>\n",
       "      <td>031017220679</td>\n",
       "      <td>1</td>\n",
       "      <td>21</td>\n",
       "      <td>2022-11-24</td>\n",
       "      <td>1954</td>\n",
       "      <td>3</td>\n",
       "      <td>0</td>\n",
       "      <td>6</td>\n",
       "      <td>2</td>\n",
       "      <td>1</td>\n",
       "      <td>...</td>\n",
       "      <td>1</td>\n",
       "      <td>1</td>\n",
       "      <td>200</td>\n",
       "      <td>2</td>\n",
       "      <td>1</td>\n",
       "      <td>1</td>\n",
       "      <td>TRSTĚNICE</td>\n",
       "      <td>NaN</td>\n",
       "      <td>silnice 1.třídy</td>\n",
       "      <td>2</td>\n",
       "    </tr>\n",
       "    <tr>\n",
       "      <th>1</th>\n",
       "      <td>031017220700</td>\n",
       "      <td>1</td>\n",
       "      <td>21</td>\n",
       "      <td>2022-11-24</td>\n",
       "      <td>1954</td>\n",
       "      <td>1</td>\n",
       "      <td>2</td>\n",
       "      <td>0</td>\n",
       "      <td>2</td>\n",
       "      <td>1</td>\n",
       "      <td>...</td>\n",
       "      <td>1</td>\n",
       "      <td>1</td>\n",
       "      <td>1000</td>\n",
       "      <td>2</td>\n",
       "      <td>1</td>\n",
       "      <td>1</td>\n",
       "      <td>CHODOVÁ PLANÁ</td>\n",
       "      <td>NaN</td>\n",
       "      <td>silnice 1.třídy</td>\n",
       "      <td>2</td>\n",
       "    </tr>\n",
       "    <tr>\n",
       "      <th>2</th>\n",
       "      <td>190206220001</td>\n",
       "      <td>3</td>\n",
       "      <td>21413</td>\n",
       "      <td>2022-01-01</td>\n",
       "      <td>0530</td>\n",
       "      <td>9</td>\n",
       "      <td>0</td>\n",
       "      <td>0</td>\n",
       "      <td>1</td>\n",
       "      <td>1</td>\n",
       "      <td>...</td>\n",
       "      <td>1</td>\n",
       "      <td>3</td>\n",
       "      <td>400</td>\n",
       "      <td>3</td>\n",
       "      <td>5</td>\n",
       "      <td>0</td>\n",
       "      <td>NaN</td>\n",
       "      <td>NaN</td>\n",
       "      <td>silnice3.třídy</td>\n",
       "      <td>2</td>\n",
       "    </tr>\n",
       "  </tbody>\n",
       "</table>\n",
       "<p>3 rows × 48 columns</p>\n",
       "</div>"
      ],
      "text/plain": [
       "             p1 p36    p37         p2a   p2b p6 p7 p8 p9 p10  ... p51 p52  \\\n",
       "0  031017220679   1     21  2022-11-24  1954  3  0  6  2   1  ...   1   1   \n",
       "1  031017220700   1     21  2022-11-24  1954  1  2  0  2   1  ...   1   1   \n",
       "2  190206220001   3  21413  2022-01-01  0530  9  0  0  1   1  ...   1   3   \n",
       "\n",
       "    p53 p55a p57 p58              h    i                k p5a  \n",
       "0   200    2   1   1      TRSTĚNICE  NaN  silnice 1.třídy   2  \n",
       "1  1000    2   1   1  CHODOVÁ PLANÁ  NaN  silnice 1.třídy   2  \n",
       "2   400    3   5   0            NaN  NaN   silnice3.třídy   2  \n",
       "\n",
       "[3 rows x 48 columns]"
      ]
     },
     "execution_count": 97,
     "metadata": {},
     "output_type": "execute_result"
    }
   ],
   "source": [
    "df.head(3)"
   ]
  },
  {
   "cell_type": "markdown",
   "metadata": {
    "id": "8Dl9VjWWZ9LR"
   },
   "source": [
    "## Transform categorical values"
   ]
  },
  {
   "cell_type": "code",
   "execution_count": 98,
   "metadata": {
    "id": "2dNlzSycZ2vI"
   },
   "outputs": [],
   "source": [
    "original_nan = df.isna().mean().to_frame().reset_index()"
   ]
  },
  {
   "cell_type": "code",
   "execution_count": 99,
   "metadata": {
    "colab": {
     "base_uri": "https://localhost:8080/",
     "height": 739
    },
    "id": "dJvVUtL4kq13",
    "outputId": "f5096da6-0412-47c2-c4c8-bbef1d319b37"
   },
   "outputs": [
    {
     "data": {
      "text/html": [
       "<div>\n",
       "<style scoped>\n",
       "    .dataframe tbody tr th:only-of-type {\n",
       "        vertical-align: middle;\n",
       "    }\n",
       "\n",
       "    .dataframe tbody tr th {\n",
       "        vertical-align: top;\n",
       "    }\n",
       "\n",
       "    .dataframe thead th {\n",
       "        text-align: right;\n",
       "    }\n",
       "</style>\n",
       "<table border=\"1\" class=\"dataframe\">\n",
       "  <thead>\n",
       "    <tr style=\"text-align: right;\">\n",
       "      <th></th>\n",
       "      <th>index</th>\n",
       "      <th>0</th>\n",
       "    </tr>\n",
       "  </thead>\n",
       "  <tbody>\n",
       "    <tr>\n",
       "      <th>2</th>\n",
       "      <td>p37</td>\n",
       "      <td>0.534154</td>\n",
       "    </tr>\n",
       "    <tr>\n",
       "      <th>16</th>\n",
       "      <td>p15</td>\n",
       "      <td>0.000003</td>\n",
       "    </tr>\n",
       "    <tr>\n",
       "      <th>17</th>\n",
       "      <td>p16</td>\n",
       "      <td>0.000003</td>\n",
       "    </tr>\n",
       "    <tr>\n",
       "      <th>18</th>\n",
       "      <td>p17</td>\n",
       "      <td>0.000003</td>\n",
       "    </tr>\n",
       "    <tr>\n",
       "      <th>19</th>\n",
       "      <td>p18</td>\n",
       "      <td>0.000003</td>\n",
       "    </tr>\n",
       "    <tr>\n",
       "      <th>20</th>\n",
       "      <td>p19</td>\n",
       "      <td>0.000003</td>\n",
       "    </tr>\n",
       "    <tr>\n",
       "      <th>21</th>\n",
       "      <td>p20</td>\n",
       "      <td>0.000003</td>\n",
       "    </tr>\n",
       "    <tr>\n",
       "      <th>30</th>\n",
       "      <td>p39</td>\n",
       "      <td>0.883502</td>\n",
       "    </tr>\n",
       "    <tr>\n",
       "      <th>32</th>\n",
       "      <td>p45a</td>\n",
       "      <td>0.172107</td>\n",
       "    </tr>\n",
       "    <tr>\n",
       "      <th>33</th>\n",
       "      <td>p47</td>\n",
       "      <td>0.044799</td>\n",
       "    </tr>\n",
       "    <tr>\n",
       "      <th>34</th>\n",
       "      <td>p48a</td>\n",
       "      <td>0.175467</td>\n",
       "    </tr>\n",
       "    <tr>\n",
       "      <th>35</th>\n",
       "      <td>p49</td>\n",
       "      <td>0.175461</td>\n",
       "    </tr>\n",
       "    <tr>\n",
       "      <th>36</th>\n",
       "      <td>p50a</td>\n",
       "      <td>0.172528</td>\n",
       "    </tr>\n",
       "    <tr>\n",
       "      <th>37</th>\n",
       "      <td>p50b</td>\n",
       "      <td>0.175466</td>\n",
       "    </tr>\n",
       "    <tr>\n",
       "      <th>38</th>\n",
       "      <td>p51</td>\n",
       "      <td>0.175467</td>\n",
       "    </tr>\n",
       "    <tr>\n",
       "      <th>39</th>\n",
       "      <td>p52</td>\n",
       "      <td>0.170059</td>\n",
       "    </tr>\n",
       "    <tr>\n",
       "      <th>41</th>\n",
       "      <td>p55a</td>\n",
       "      <td>0.175493</td>\n",
       "    </tr>\n",
       "    <tr>\n",
       "      <th>42</th>\n",
       "      <td>p57</td>\n",
       "      <td>0.205018</td>\n",
       "    </tr>\n",
       "    <tr>\n",
       "      <th>43</th>\n",
       "      <td>p58</td>\n",
       "      <td>0.205020</td>\n",
       "    </tr>\n",
       "    <tr>\n",
       "      <th>44</th>\n",
       "      <td>h</td>\n",
       "      <td>0.322940</td>\n",
       "    </tr>\n",
       "    <tr>\n",
       "      <th>45</th>\n",
       "      <td>i</td>\n",
       "      <td>0.445825</td>\n",
       "    </tr>\n",
       "    <tr>\n",
       "      <th>46</th>\n",
       "      <td>k</td>\n",
       "      <td>0.008964</td>\n",
       "    </tr>\n",
       "  </tbody>\n",
       "</table>\n",
       "</div>"
      ],
      "text/plain": [
       "   index         0\n",
       "2    p37  0.534154\n",
       "16   p15  0.000003\n",
       "17   p16  0.000003\n",
       "18   p17  0.000003\n",
       "19   p18  0.000003\n",
       "20   p19  0.000003\n",
       "21   p20  0.000003\n",
       "30   p39  0.883502\n",
       "32  p45a  0.172107\n",
       "33   p47  0.044799\n",
       "34  p48a  0.175467\n",
       "35   p49  0.175461\n",
       "36  p50a  0.172528\n",
       "37  p50b  0.175466\n",
       "38   p51  0.175467\n",
       "39   p52  0.170059\n",
       "41  p55a  0.175493\n",
       "42   p57  0.205018\n",
       "43   p58  0.205020\n",
       "44     h  0.322940\n",
       "45     i  0.445825\n",
       "46     k  0.008964"
      ]
     },
     "execution_count": 99,
     "metadata": {},
     "output_type": "execute_result"
    }
   ],
   "source": [
    "original_nan[original_nan[0] > 0]"
   ]
  },
  {
   "cell_type": "markdown",
   "metadata": {
    "id": "olMKienNJpdR"
   },
   "source": [
    "Look at the original missing values so that nothing is lost when changing them"
   ]
  },
  {
   "cell_type": "code",
   "execution_count": 100,
   "metadata": {
    "id": "mqmXKshZOWao"
   },
   "outputs": [],
   "source": [
    "transformation_path = '../data/transformation_data/'"
   ]
  },
  {
   "cell_type": "code",
   "execution_count": 101,
   "metadata": {
    "id": "cMuTLqYcpoq4"
   },
   "outputs": [],
   "source": [
    "cat_values = pd.read_csv(f'{transformation_path}cat_names.csv',sep=';',encoding='Windows-1250')\n",
    "cat_values.loc[cat_values['Bližší definice'].notna(),'Popis'] = cat_values['Popis'] + ' ' + cat_values['Bližší definice']\n",
    "cat_values = cat_values.drop('Bližší definice',axis=1)\n",
    "cat_values = cat_values[~cat_values['Formulář DN'].isin(['p47','p53','p37'])]"
   ]
  },
  {
   "cell_type": "code",
   "execution_count": 102,
   "metadata": {
    "id": "92QNKZjSr6dy"
   },
   "outputs": [],
   "source": [
    "target_language = \"en\"\n",
    "translator = deepl.Translator(config.DEEPL_API_KEY)"
   ]
  },
  {
   "cell_type": "code",
   "execution_count": 103,
   "metadata": {
    "id": "9us8I0pKtvek"
   },
   "outputs": [],
   "source": [
    "cat_values['Popis'] = cat_values['Popis'].apply(lambda x: translator.translate_text(str(x),target_lang='EN-US').text)"
   ]
  },
  {
   "cell_type": "markdown",
   "metadata": {
    "id": "9s2FLOskqAmp"
   },
   "source": [
    "Exceptions"
   ]
  },
  {
   "cell_type": "code",
   "execution_count": 104,
   "metadata": {
    "id": "p7g_YFjppiPw"
   },
   "outputs": [],
   "source": [
    "def grouping(row):\n",
    "  if float(row) in range(11,19):\n",
    "    return '11-18'\n",
    "  elif float(row) in range(22,29):\n",
    "    return '22-28'\n",
    "  else:\n",
    "    return row"
   ]
  },
  {
   "cell_type": "code",
   "execution_count": 105,
   "metadata": {
    "id": "bZiBYCHOsFLA"
   },
   "outputs": [],
   "source": [
    "df['p35'] = df['p35'].apply(grouping)\n",
    "df['p52'] = df['p52'].apply(lambda x: '10-99' if float(x) in range(10,100) else x)"
   ]
  },
  {
   "cell_type": "code",
   "execution_count": 106,
   "metadata": {
    "colab": {
     "base_uri": "https://localhost:8080/",
     "height": 468
    },
    "id": "WKcatIqMSXhM",
    "outputId": "cbfb94a2-8372-435e-db08-72c8cad19fb5"
   },
   "outputs": [
    {
     "data": {
      "text/html": [
       "<div>\n",
       "<style scoped>\n",
       "    .dataframe tbody tr th:only-of-type {\n",
       "        vertical-align: middle;\n",
       "    }\n",
       "\n",
       "    .dataframe tbody tr th {\n",
       "        vertical-align: top;\n",
       "    }\n",
       "\n",
       "    .dataframe thead th {\n",
       "        text-align: right;\n",
       "    }\n",
       "</style>\n",
       "<table border=\"1\" class=\"dataframe\">\n",
       "  <thead>\n",
       "    <tr style=\"text-align: right;\">\n",
       "      <th></th>\n",
       "      <th>p1</th>\n",
       "      <th>p36</th>\n",
       "      <th>p37</th>\n",
       "      <th>p2a</th>\n",
       "      <th>p2b</th>\n",
       "      <th>p6</th>\n",
       "      <th>p7</th>\n",
       "      <th>p8</th>\n",
       "      <th>p9</th>\n",
       "      <th>p10</th>\n",
       "      <th>...</th>\n",
       "      <th>p51</th>\n",
       "      <th>p52</th>\n",
       "      <th>p53</th>\n",
       "      <th>p55a</th>\n",
       "      <th>p57</th>\n",
       "      <th>p58</th>\n",
       "      <th>h</th>\n",
       "      <th>i</th>\n",
       "      <th>k</th>\n",
       "      <th>p5a</th>\n",
       "    </tr>\n",
       "  </thead>\n",
       "  <tbody>\n",
       "    <tr>\n",
       "      <th>0</th>\n",
       "      <td>031017220679</td>\n",
       "      <td>Class 1 roads</td>\n",
       "      <td>21</td>\n",
       "      <td>2022-11-24</td>\n",
       "      <td>1954</td>\n",
       "      <td>collision with a fixed obstacle</td>\n",
       "      <td>not an option It is not a collision between mo...</td>\n",
       "      <td>wall, fixed part of bridges, underpasses, tunn...</td>\n",
       "      <td>accident with material damage only</td>\n",
       "      <td>driver of a motor vehicle</td>\n",
       "      <td>...</td>\n",
       "      <td>there was no need to use violence</td>\n",
       "      <td>moving vehicle - in the measure of stationary ...</td>\n",
       "      <td>200</td>\n",
       "      <td>with a driving licence of category B</td>\n",
       "      <td>good no adverse circumstances were found</td>\n",
       "      <td>the driver was not affected</td>\n",
       "      <td>TRSTĚNICE</td>\n",
       "      <td>NaN</td>\n",
       "      <td>silnice 1.třídy</td>\n",
       "      <td>outside the village</td>\n",
       "    </tr>\n",
       "    <tr>\n",
       "      <th>1</th>\n",
       "      <td>031017220700</td>\n",
       "      <td>Class 1 roads</td>\n",
       "      <td>21</td>\n",
       "      <td>2022-11-24</td>\n",
       "      <td>1954</td>\n",
       "      <td>collision with a moving non-rail vehicle</td>\n",
       "      <td>Side</td>\n",
       "      <td>not an option not a collision with a fixed obs...</td>\n",
       "      <td>accident with material damage only</td>\n",
       "      <td>driver of a motor vehicle</td>\n",
       "      <td>...</td>\n",
       "      <td>there was no need to use violence</td>\n",
       "      <td>moving vehicle - in the measure of stationary ...</td>\n",
       "      <td>1000</td>\n",
       "      <td>with a driving licence of category B</td>\n",
       "      <td>good no adverse circumstances were found</td>\n",
       "      <td>the driver was not affected</td>\n",
       "      <td>CHODOVÁ PLANÁ</td>\n",
       "      <td>NaN</td>\n",
       "      <td>silnice 1.třídy</td>\n",
       "      <td>outside the village</td>\n",
       "    </tr>\n",
       "    <tr>\n",
       "      <th>2</th>\n",
       "      <td>190206220001</td>\n",
       "      <td>3rd class roads</td>\n",
       "      <td>21413</td>\n",
       "      <td>2022-01-01</td>\n",
       "      <td>0530</td>\n",
       "      <td>crashes</td>\n",
       "      <td>not an option It is not a collision between mo...</td>\n",
       "      <td>not an option not a collision with a fixed obs...</td>\n",
       "      <td>fatal accident</td>\n",
       "      <td>driver of a motor vehicle</td>\n",
       "      <td>...</td>\n",
       "      <td>there was no need to use violence</td>\n",
       "      <td>vehicle moving - against the direction of stat...</td>\n",
       "      <td>400</td>\n",
       "      <td>with a driving licence of category C</td>\n",
       "      <td>under the influence of alcohol, blood alcohol ...</td>\n",
       "      <td>other influences</td>\n",
       "      <td>NaN</td>\n",
       "      <td>NaN</td>\n",
       "      <td>silnice3.třídy</td>\n",
       "      <td>outside the village</td>\n",
       "    </tr>\n",
       "  </tbody>\n",
       "</table>\n",
       "<p>3 rows × 48 columns</p>\n",
       "</div>"
      ],
      "text/plain": [
       "             p1              p36    p37         p2a   p2b  \\\n",
       "0  031017220679    Class 1 roads     21  2022-11-24  1954   \n",
       "1  031017220700    Class 1 roads     21  2022-11-24  1954   \n",
       "2  190206220001  3rd class roads  21413  2022-01-01  0530   \n",
       "\n",
       "                                         p6  \\\n",
       "0           collision with a fixed obstacle   \n",
       "1  collision with a moving non-rail vehicle   \n",
       "2                                   crashes   \n",
       "\n",
       "                                                  p7  \\\n",
       "0  not an option It is not a collision between mo...   \n",
       "1                                               Side   \n",
       "2  not an option It is not a collision between mo...   \n",
       "\n",
       "                                                  p8  \\\n",
       "0  wall, fixed part of bridges, underpasses, tunn...   \n",
       "1  not an option not a collision with a fixed obs...   \n",
       "2  not an option not a collision with a fixed obs...   \n",
       "\n",
       "                                   p9                        p10  ...  \\\n",
       "0  accident with material damage only  driver of a motor vehicle  ...   \n",
       "1  accident with material damage only  driver of a motor vehicle  ...   \n",
       "2                      fatal accident  driver of a motor vehicle  ...   \n",
       "\n",
       "                                 p51  \\\n",
       "0  there was no need to use violence   \n",
       "1  there was no need to use violence   \n",
       "2  there was no need to use violence   \n",
       "\n",
       "                                                 p52   p53  \\\n",
       "0  moving vehicle - in the measure of stationary ...   200   \n",
       "1  moving vehicle - in the measure of stationary ...  1000   \n",
       "2  vehicle moving - against the direction of stat...   400   \n",
       "\n",
       "                                   p55a  \\\n",
       "0  with a driving licence of category B   \n",
       "1  with a driving licence of category B   \n",
       "2  with a driving licence of category C   \n",
       "\n",
       "                                                 p57  \\\n",
       "0           good no adverse circumstances were found   \n",
       "1           good no adverse circumstances were found   \n",
       "2  under the influence of alcohol, blood alcohol ...   \n",
       "\n",
       "                           p58              h    i                k  \\\n",
       "0  the driver was not affected      TRSTĚNICE  NaN  silnice 1.třídy   \n",
       "1  the driver was not affected  CHODOVÁ PLANÁ  NaN  silnice 1.třídy   \n",
       "2             other influences            NaN  NaN   silnice3.třídy   \n",
       "\n",
       "                   p5a  \n",
       "0  outside the village  \n",
       "1  outside the village  \n",
       "2  outside the village  \n",
       "\n",
       "[3 rows x 48 columns]"
      ]
     },
     "execution_count": 106,
     "metadata": {},
     "output_type": "execute_result"
    }
   ],
   "source": [
    "normalized_values = {'00':'0','01':'1','02':'2','03':'3','04':'4','05':'5','06':'6','07':'7','08':'8','09':'9'}\n",
    "\n",
    "for col in df.columns:\n",
    "    if col in cat_values['Formulář DN'].values:\n",
    "#p35 is an exception, you don't need to generalize there.\n",
    "        if col != 'p35' and df[col].isin(normalized_values).any():\n",
    "            df[col] = df[col].replace(normalized_values)\n",
    "#get our values for our column and translate that into a key value\n",
    "        temp = cat_values[cat_values['Formulář DN'] == col]\n",
    "        mapping_dict = dict(zip(temp['Položka'], temp['Popis']))\n",
    "        df[col] = df[col].map(mapping_dict).astype('category')\n",
    "df.head(3)"
   ]
  },
  {
   "cell_type": "code",
   "execution_count": 107,
   "metadata": {
    "id": "uyEp4alHTr0x"
   },
   "outputs": [],
   "source": [
    "new_nan = df.isna().mean().to_frame().reset_index()"
   ]
  },
  {
   "cell_type": "markdown",
   "metadata": {
    "id": "8BDgibBjHKE1"
   },
   "source": [
    "Checking for mistakes"
   ]
  },
  {
   "cell_type": "code",
   "execution_count": 108,
   "metadata": {
    "colab": {
     "base_uri": "https://localhost:8080/",
     "height": 238
    },
    "id": "CXZFg-1Rtf--",
    "outputId": "c6ef1608-11e5-4770-9f40-d78861eaf43d"
   },
   "outputs": [
    {
     "data": {
      "text/html": [
       "<div>\n",
       "<style scoped>\n",
       "    .dataframe tbody tr th:only-of-type {\n",
       "        vertical-align: middle;\n",
       "    }\n",
       "\n",
       "    .dataframe tbody tr th {\n",
       "        vertical-align: top;\n",
       "    }\n",
       "\n",
       "    .dataframe thead th {\n",
       "        text-align: right;\n",
       "    }\n",
       "</style>\n",
       "<table border=\"1\" class=\"dataframe\">\n",
       "  <thead>\n",
       "    <tr style=\"text-align: right;\">\n",
       "      <th></th>\n",
       "      <th>index</th>\n",
       "      <th>0_x</th>\n",
       "      <th>0_y</th>\n",
       "    </tr>\n",
       "  </thead>\n",
       "  <tbody>\n",
       "    <tr>\n",
       "      <th>16</th>\n",
       "      <td>p15</td>\n",
       "      <td>0.002977</td>\n",
       "      <td>0.000003</td>\n",
       "    </tr>\n",
       "    <tr>\n",
       "      <th>31</th>\n",
       "      <td>p44</td>\n",
       "      <td>0.002059</td>\n",
       "      <td>0.000000</td>\n",
       "    </tr>\n",
       "    <tr>\n",
       "      <th>32</th>\n",
       "      <td>p45a</td>\n",
       "      <td>0.212594</td>\n",
       "      <td>0.172107</td>\n",
       "    </tr>\n",
       "    <tr>\n",
       "      <th>34</th>\n",
       "      <td>p48a</td>\n",
       "      <td>0.181013</td>\n",
       "      <td>0.175467</td>\n",
       "    </tr>\n",
       "    <tr>\n",
       "      <th>39</th>\n",
       "      <td>p52</td>\n",
       "      <td>0.175442</td>\n",
       "      <td>0.170059</td>\n",
       "    </tr>\n",
       "    <tr>\n",
       "      <th>42</th>\n",
       "      <td>p57</td>\n",
       "      <td>0.215272</td>\n",
       "      <td>0.205018</td>\n",
       "    </tr>\n",
       "  </tbody>\n",
       "</table>\n",
       "</div>"
      ],
      "text/plain": [
       "   index       0_x       0_y\n",
       "16   p15  0.002977  0.000003\n",
       "31   p44  0.002059  0.000000\n",
       "32  p45a  0.212594  0.172107\n",
       "34  p48a  0.181013  0.175467\n",
       "39   p52  0.175442  0.170059\n",
       "42   p57  0.215272  0.205018"
      ]
     },
     "execution_count": 108,
     "metadata": {},
     "output_type": "execute_result"
    }
   ],
   "source": [
    "result = pd.merge(new_nan,original_nan,how='left',left_on='index',right_on='index')\n",
    "result[result['0_x'] != result['0_y']]"
   ]
  },
  {
   "cell_type": "markdown",
   "metadata": {
    "id": "j4nV1aYtmxRU"
   },
   "source": [
    "There are no errors in the code just some values have omissions in their excel file.  \n",
    "There is no way to recognize these values"
   ]
  },
  {
   "cell_type": "code",
   "execution_count": 109,
   "metadata": {
    "colab": {
     "base_uri": "https://localhost:8080/",
     "height": 175
    },
    "id": "u9qdnxlVzeN5",
    "outputId": "e6fd71a0-bb0c-4d43-8042-ac8b51b529ad"
   },
   "outputs": [
    {
     "data": {
      "text/html": [
       "<div>\n",
       "<style scoped>\n",
       "    .dataframe tbody tr th:only-of-type {\n",
       "        vertical-align: middle;\n",
       "    }\n",
       "\n",
       "    .dataframe tbody tr th {\n",
       "        vertical-align: top;\n",
       "    }\n",
       "\n",
       "    .dataframe thead th {\n",
       "        text-align: right;\n",
       "    }\n",
       "</style>\n",
       "<table border=\"1\" class=\"dataframe\">\n",
       "  <thead>\n",
       "    <tr style=\"text-align: right;\">\n",
       "      <th></th>\n",
       "      <th>index</th>\n",
       "      <th>0</th>\n",
       "    </tr>\n",
       "  </thead>\n",
       "  <tbody>\n",
       "    <tr>\n",
       "      <th>2</th>\n",
       "      <td>p37</td>\n",
       "      <td>0.534154</td>\n",
       "    </tr>\n",
       "    <tr>\n",
       "      <th>30</th>\n",
       "      <td>p39</td>\n",
       "      <td>0.883502</td>\n",
       "    </tr>\n",
       "    <tr>\n",
       "      <th>44</th>\n",
       "      <td>h</td>\n",
       "      <td>0.322940</td>\n",
       "    </tr>\n",
       "    <tr>\n",
       "      <th>45</th>\n",
       "      <td>i</td>\n",
       "      <td>0.445825</td>\n",
       "    </tr>\n",
       "  </tbody>\n",
       "</table>\n",
       "</div>"
      ],
      "text/plain": [
       "   index         0\n",
       "2    p37  0.534154\n",
       "30   p39  0.883502\n",
       "44     h  0.322940\n",
       "45     i  0.445825"
      ]
     },
     "execution_count": 109,
     "metadata": {},
     "output_type": "execute_result"
    }
   ],
   "source": [
    "new_nan[new_nan[0] > 0.3]"
   ]
  },
  {
   "cell_type": "markdown",
   "metadata": {
    "id": "hcm2Io197zJy"
   },
   "source": [
    "h and i are city and street, so we can't get rid of them, the rest are unlikely to be used at all"
   ]
  },
  {
   "cell_type": "code",
   "execution_count": 110,
   "metadata": {
    "id": "aemR4vBa0IMG"
   },
   "outputs": [],
   "source": [
    "new_cols = ['id','communication_kind','date','time','accident_kind','crash_kind','fixed_precaution_kind','injury',\n",
    "            'cause_of_accident','alcohol','main_cause_of_accident','killed_persons','severely_injured_persons','slightly_injured_persons','total_material_damage',\n",
    "            \"road_surface_type\", \"condition_of_vehicle_surface\", \"condition_of_communication\", \"weather_conditions_at_the_time_of_accident\", \"visibility\", \"visibility_ratios\",\n",
    "            'communication_division', 'communication_accident_situation', 'traffic_control_at_the_time_of_an_accident', 'local_administration_priority_in_traffic',\n",
    "            'specific_location_and_objects_in_the_location_of_the_accident','directional_rates','number_of_vehicles_involved','location_of_the_traffic_accident',\n",
    "            'vehicle_type','vehicle_brand','year_of_manufacture','vehicle_owner','skid','vehicle_sequel',\n",
    "            'leakage_of_transported_materials','way_of_releasing_persons_from_the_vehicle','direction_of_movement','damage_to_the_vehicle(in_hundred_crowns)','driver_category',\n",
    "            'driver_condition','driver_external_influence','city','street','road_type','location']"
   ]
  },
  {
   "cell_type": "code",
   "execution_count": 111,
   "metadata": {
    "id": "gbmxxJFzKHCQ"
   },
   "outputs": [],
   "source": [
    "df = df.drop(['p37','p39'],axis=1)\n",
    "df.columns = new_cols"
   ]
  },
  {
   "cell_type": "code",
   "execution_count": 112,
   "metadata": {
    "colab": {
     "base_uri": "https://localhost:8080/",
     "height": 453
    },
    "id": "tVlN4aqSH39o",
    "outputId": "536ff8d7-fd5e-4b01-9e82-a78c168334da"
   },
   "outputs": [
    {
     "data": {
      "text/html": [
       "<div>\n",
       "<style scoped>\n",
       "    .dataframe tbody tr th:only-of-type {\n",
       "        vertical-align: middle;\n",
       "    }\n",
       "\n",
       "    .dataframe tbody tr th {\n",
       "        vertical-align: top;\n",
       "    }\n",
       "\n",
       "    .dataframe thead th {\n",
       "        text-align: right;\n",
       "    }\n",
       "</style>\n",
       "<table border=\"1\" class=\"dataframe\">\n",
       "  <thead>\n",
       "    <tr style=\"text-align: right;\">\n",
       "      <th></th>\n",
       "      <th>id</th>\n",
       "      <th>communication_kind</th>\n",
       "      <th>date</th>\n",
       "      <th>time</th>\n",
       "      <th>accident_kind</th>\n",
       "      <th>crash_kind</th>\n",
       "      <th>fixed_precaution_kind</th>\n",
       "      <th>injury</th>\n",
       "      <th>cause_of_accident</th>\n",
       "      <th>alcohol</th>\n",
       "      <th>...</th>\n",
       "      <th>way_of_releasing_persons_from_the_vehicle</th>\n",
       "      <th>direction_of_movement</th>\n",
       "      <th>damage_to_the_vehicle(in_hundred_crowns)</th>\n",
       "      <th>driver_category</th>\n",
       "      <th>driver_condition</th>\n",
       "      <th>driver_external_influence</th>\n",
       "      <th>city</th>\n",
       "      <th>street</th>\n",
       "      <th>road_type</th>\n",
       "      <th>location</th>\n",
       "    </tr>\n",
       "  </thead>\n",
       "  <tbody>\n",
       "    <tr>\n",
       "      <th>0</th>\n",
       "      <td>031017220679</td>\n",
       "      <td>Class 1 roads</td>\n",
       "      <td>2022-11-24</td>\n",
       "      <td>1954</td>\n",
       "      <td>collision with a fixed obstacle</td>\n",
       "      <td>not an option It is not a collision between mo...</td>\n",
       "      <td>wall, fixed part of bridges, underpasses, tunn...</td>\n",
       "      <td>accident with material damage only</td>\n",
       "      <td>driver of a motor vehicle</td>\n",
       "      <td>ne</td>\n",
       "      <td>...</td>\n",
       "      <td>there was no need to use violence</td>\n",
       "      <td>moving vehicle - in the measure of stationary ...</td>\n",
       "      <td>200</td>\n",
       "      <td>with a driving licence of category B</td>\n",
       "      <td>good no adverse circumstances were found</td>\n",
       "      <td>the driver was not affected</td>\n",
       "      <td>TRSTĚNICE</td>\n",
       "      <td>NaN</td>\n",
       "      <td>silnice 1.třídy</td>\n",
       "      <td>outside the village</td>\n",
       "    </tr>\n",
       "    <tr>\n",
       "      <th>1</th>\n",
       "      <td>031017220700</td>\n",
       "      <td>Class 1 roads</td>\n",
       "      <td>2022-11-24</td>\n",
       "      <td>1954</td>\n",
       "      <td>collision with a moving non-rail vehicle</td>\n",
       "      <td>Side</td>\n",
       "      <td>not an option not a collision with a fixed obs...</td>\n",
       "      <td>accident with material damage only</td>\n",
       "      <td>driver of a motor vehicle</td>\n",
       "      <td>ne</td>\n",
       "      <td>...</td>\n",
       "      <td>there was no need to use violence</td>\n",
       "      <td>moving vehicle - in the measure of stationary ...</td>\n",
       "      <td>1000</td>\n",
       "      <td>with a driving licence of category B</td>\n",
       "      <td>good no adverse circumstances were found</td>\n",
       "      <td>the driver was not affected</td>\n",
       "      <td>CHODOVÁ PLANÁ</td>\n",
       "      <td>NaN</td>\n",
       "      <td>silnice 1.třídy</td>\n",
       "      <td>outside the village</td>\n",
       "    </tr>\n",
       "    <tr>\n",
       "      <th>2</th>\n",
       "      <td>190206220001</td>\n",
       "      <td>3rd class roads</td>\n",
       "      <td>2022-01-01</td>\n",
       "      <td>0530</td>\n",
       "      <td>crashes</td>\n",
       "      <td>not an option It is not a collision between mo...</td>\n",
       "      <td>not an option not a collision with a fixed obs...</td>\n",
       "      <td>fatal accident</td>\n",
       "      <td>driver of a motor vehicle</td>\n",
       "      <td>yes blood alcohol content between 1.0 ‰ and 1.5 ‰</td>\n",
       "      <td>...</td>\n",
       "      <td>there was no need to use violence</td>\n",
       "      <td>vehicle moving - against the direction of stat...</td>\n",
       "      <td>400</td>\n",
       "      <td>with a driving licence of category C</td>\n",
       "      <td>under the influence of alcohol, blood alcohol ...</td>\n",
       "      <td>other influences</td>\n",
       "      <td>NaN</td>\n",
       "      <td>NaN</td>\n",
       "      <td>silnice3.třídy</td>\n",
       "      <td>outside the village</td>\n",
       "    </tr>\n",
       "  </tbody>\n",
       "</table>\n",
       "<p>3 rows × 46 columns</p>\n",
       "</div>"
      ],
      "text/plain": [
       "             id communication_kind        date  time  \\\n",
       "0  031017220679      Class 1 roads  2022-11-24  1954   \n",
       "1  031017220700      Class 1 roads  2022-11-24  1954   \n",
       "2  190206220001    3rd class roads  2022-01-01  0530   \n",
       "\n",
       "                              accident_kind  \\\n",
       "0           collision with a fixed obstacle   \n",
       "1  collision with a moving non-rail vehicle   \n",
       "2                                   crashes   \n",
       "\n",
       "                                          crash_kind  \\\n",
       "0  not an option It is not a collision between mo...   \n",
       "1                                               Side   \n",
       "2  not an option It is not a collision between mo...   \n",
       "\n",
       "                               fixed_precaution_kind  \\\n",
       "0  wall, fixed part of bridges, underpasses, tunn...   \n",
       "1  not an option not a collision with a fixed obs...   \n",
       "2  not an option not a collision with a fixed obs...   \n",
       "\n",
       "                               injury          cause_of_accident  \\\n",
       "0  accident with material damage only  driver of a motor vehicle   \n",
       "1  accident with material damage only  driver of a motor vehicle   \n",
       "2                      fatal accident  driver of a motor vehicle   \n",
       "\n",
       "                                             alcohol  ...  \\\n",
       "0                                                 ne  ...   \n",
       "1                                                 ne  ...   \n",
       "2  yes blood alcohol content between 1.0 ‰ and 1.5 ‰  ...   \n",
       "\n",
       "  way_of_releasing_persons_from_the_vehicle  \\\n",
       "0         there was no need to use violence   \n",
       "1         there was no need to use violence   \n",
       "2         there was no need to use violence   \n",
       "\n",
       "                               direction_of_movement  \\\n",
       "0  moving vehicle - in the measure of stationary ...   \n",
       "1  moving vehicle - in the measure of stationary ...   \n",
       "2  vehicle moving - against the direction of stat...   \n",
       "\n",
       "  damage_to_the_vehicle(in_hundred_crowns)  \\\n",
       "0                                      200   \n",
       "1                                     1000   \n",
       "2                                      400   \n",
       "\n",
       "                        driver_category  \\\n",
       "0  with a driving licence of category B   \n",
       "1  with a driving licence of category B   \n",
       "2  with a driving licence of category C   \n",
       "\n",
       "                                    driver_condition  \\\n",
       "0           good no adverse circumstances were found   \n",
       "1           good no adverse circumstances were found   \n",
       "2  under the influence of alcohol, blood alcohol ...   \n",
       "\n",
       "     driver_external_influence           city street        road_type  \\\n",
       "0  the driver was not affected      TRSTĚNICE    NaN  silnice 1.třídy   \n",
       "1  the driver was not affected  CHODOVÁ PLANÁ    NaN  silnice 1.třídy   \n",
       "2             other influences            NaN    NaN   silnice3.třídy   \n",
       "\n",
       "              location  \n",
       "0  outside the village  \n",
       "1  outside the village  \n",
       "2  outside the village  \n",
       "\n",
       "[3 rows x 46 columns]"
      ]
     },
     "execution_count": 112,
     "metadata": {},
     "output_type": "execute_result"
    }
   ],
   "source": [
    "df.head(3)"
   ]
  },
  {
   "cell_type": "markdown",
   "metadata": {
    "id": "dlQ-xmE68g5_"
   },
   "source": [
    "## Changing types and filling missing values"
   ]
  },
  {
   "cell_type": "code",
   "execution_count": 113,
   "metadata": {},
   "outputs": [],
   "source": [
    "df['date'] = pd.to_datetime(df['date'])\n"
   ]
  },
  {
   "cell_type": "code",
   "execution_count": 114,
   "metadata": {
    "id": "SVbE2j_Ohvfl"
   },
   "outputs": [],
   "source": [
    "df['time'] = df['time'].astype(int)\n",
    "df['damage_to_the_vehicle(in_hundred_crowns)'] = df['damage_to_the_vehicle(in_hundred_crowns)'].fillna('-1').astype(int)\n",
    "df['total_material_damage'] = df['total_material_damage'].astype(int)\n",
    "\n",
    "cons_cols = ['killed_persons','severely_injured_persons','slightly_injured_persons']\n",
    "df[cons_cols] = df[cons_cols].astype(int)"
   ]
  },
  {
   "cell_type": "code",
   "execution_count": 115,
   "metadata": {},
   "outputs": [],
   "source": [
    "df['injury'] = df['injury'].map({'accident with material damage only':0,'fatal accident':1}).astype(int)"
   ]
  },
  {
   "cell_type": "code",
   "execution_count": 116,
   "metadata": {
    "id": "HQgGzMmG1Pta"
   },
   "outputs": [],
   "source": [
    "road_translate = pd.DataFrame(df['road_type'].unique())\n",
    "road_translate['new'] = road_translate[0].apply(lambda x: translator.translate_text(str(x),target_lang='EN-US').text)"
   ]
  },
  {
   "cell_type": "code",
   "execution_count": 117,
   "metadata": {
    "id": "W1kt6xNH2HwT"
   },
   "outputs": [],
   "source": [
    "new_type = dict(road_translate.values)"
   ]
  },
  {
   "cell_type": "code",
   "execution_count": 118,
   "metadata": {
    "id": "SgvN6LkA2Rjb"
   },
   "outputs": [],
   "source": [
    "df['road_type'] = df['road_type'].map(new_type)"
   ]
  },
  {
   "cell_type": "code",
   "execution_count": 119,
   "metadata": {
    "id": "YFqh4yI12ceC"
   },
   "outputs": [],
   "source": [
    "df.loc[df['road_type'] == 'nan'] = np.nan"
   ]
  },
  {
   "cell_type": "code",
   "execution_count": 120,
   "metadata": {
    "id": "NXisLa6VRkBj"
   },
   "outputs": [],
   "source": [
    "def year_to_int(row):\n",
    "  if type(row) == float or row in ['XX','--','AN']:\n",
    "    return -1\n",
    "  elif  23 > int(row) > 0:\n",
    "    return 2000+ int(row)\n",
    "  else:\n",
    "    return 1900+int(row)"
   ]
  },
  {
   "cell_type": "code",
   "execution_count": 121,
   "metadata": {
    "colab": {
     "base_uri": "https://localhost:8080/"
    },
    "id": "jZOvjc6YtXdV",
    "outputId": "5635f257-3dc3-4855-c0d5-a5937cfa8845"
   },
   "outputs": [
    {
     "data": {
      "text/plain": [
       "array(['04', '11', '99', '93', 'XX', '08', '16', '06', '15', '10', '21',\n",
       "       '12', '01', '19', '02', '20', '17', '00', '07', '13', '18', nan,\n",
       "       '22', '05', '96', '09', '97', '14', '03', '95', '98', '86', '94',\n",
       "       '91', 'AN', '87', '92', '89', '--', '85', '90', '80', '88', '77',\n",
       "       '84', '74', '72', '53', '79', '44', '24', '81', '82', '69', '83',\n",
       "       '0', '48', '65', '57', '62', '61', '64', '75', '56', '66', '27',\n",
       "       '67', '63', '23', '52', '58', '76', '55', '71', '59', '28', '42',\n",
       "       '78', '73', '38', '70', '36', '54', '34', '60', '68', '40', '32',\n",
       "       '47', '49', '39', '50', '45'], dtype=object)"
      ]
     },
     "execution_count": 121,
     "metadata": {},
     "output_type": "execute_result"
    }
   ],
   "source": [
    "df['year_of_manufacture'].unique()"
   ]
  },
  {
   "cell_type": "code",
   "execution_count": 122,
   "metadata": {
    "id": "JBs1C5kPkRvb"
   },
   "outputs": [],
   "source": [
    "df['year_of_manufacture'] = df['year_of_manufacture'].apply(year_to_int).astype('int16')"
   ]
  },
  {
   "cell_type": "code",
   "execution_count": 123,
   "metadata": {
    "colab": {
     "base_uri": "https://localhost:8080/"
    },
    "id": "P4gMv2ev8o2p",
    "outputId": "1d60bd69-3b40-48c9-8155-d01c3cdec0fd"
   },
   "outputs": [
    {
     "data": {
      "text/plain": [
       "id                                                               0.008964\n",
       "communication_kind                                               0.008964\n",
       "date                                                             0.008964\n",
       "time                                                             0.008964\n",
       "accident_kind                                                    0.008964\n",
       "crash_kind                                                       0.008964\n",
       "fixed_precaution_kind                                            0.008964\n",
       "injury                                                           0.008964\n",
       "cause_of_accident                                                0.008964\n",
       "alcohol                                                          0.008964\n",
       "main_cause_of_accident                                           0.008964\n",
       "killed_persons                                                   0.008964\n",
       "severely_injured_persons                                         0.008964\n",
       "slightly_injured_persons                                         0.008964\n",
       "total_material_damage                                            0.008964\n",
       "road_surface_type                                                0.011845\n",
       "condition_of_vehicle_surface                                     0.008967\n",
       "condition_of_communication                                       0.008967\n",
       "weather_conditions_at_the_time_of_accident                       0.008967\n",
       "visibility                                                       0.008967\n",
       "visibility_ratios                                                0.008967\n",
       "communication_division                                           0.008964\n",
       "communication_accident_situation                                 0.008964\n",
       "traffic_control_at_the_time_of_an_accident                       0.008964\n",
       "local_administration_priority_in_traffic                         0.008964\n",
       "specific_location_and_objects_in_the_location_of_the_accident    0.008964\n",
       "directional_rates                                                0.008964\n",
       "number_of_vehicles_involved                                      0.008964\n",
       "location_of_the_traffic_accident                                 0.008964\n",
       "vehicle_type                                                     0.011005\n",
       "vehicle_brand                                                    0.219337\n",
       "year_of_manufacture                                              0.000000\n",
       "vehicle_owner                                                    0.187972\n",
       "skid                                                             0.182464\n",
       "vehicle_sequel                                                   0.179531\n",
       "leakage_of_transported_materials                                 0.182468\n",
       "way_of_releasing_persons_from_the_vehicle                        0.182470\n",
       "direction_of_movement                                            0.182446\n",
       "damage_to_the_vehicle(in_hundred_crowns)                         0.008964\n",
       "driver_category                                                  0.182492\n",
       "driver_condition                                                 0.221857\n",
       "driver_external_influence                                        0.211706\n",
       "city                                                             0.324849\n",
       "street                                                           0.446960\n",
       "road_type                                                        0.008964\n",
       "location                                                         0.008964\n",
       "dtype: float64"
      ]
     },
     "execution_count": 123,
     "metadata": {},
     "output_type": "execute_result"
    }
   ],
   "source": [
    "df.isna().mean()"
   ]
  },
  {
   "cell_type": "code",
   "execution_count": 124,
   "metadata": {
    "colab": {
     "base_uri": "https://localhost:8080/"
    },
    "id": "k3k2R-E6Be_C",
    "outputId": "8e19166b-263f-43c7-c1df-c135a728ce0c"
   },
   "outputs": [
    {
     "data": {
      "text/plain": [
       "id                                                               0.000000\n",
       "communication_kind                                               0.000000\n",
       "date                                                             0.000000\n",
       "time                                                             0.000000\n",
       "accident_kind                                                    0.000000\n",
       "crash_kind                                                       0.000000\n",
       "fixed_precaution_kind                                            0.000000\n",
       "injury                                                           0.000000\n",
       "cause_of_accident                                                0.000000\n",
       "alcohol                                                          0.000000\n",
       "main_cause_of_accident                                           0.000000\n",
       "killed_persons                                                   0.000000\n",
       "severely_injured_persons                                         0.000000\n",
       "slightly_injured_persons                                         0.000000\n",
       "total_material_damage                                            0.000000\n",
       "road_surface_type                                                0.004964\n",
       "condition_of_vehicle_surface                                     0.000000\n",
       "condition_of_communication                                       0.000000\n",
       "weather_conditions_at_the_time_of_accident                       0.000000\n",
       "visibility                                                       0.000000\n",
       "visibility_ratios                                                0.000000\n",
       "communication_division                                           0.000000\n",
       "communication_accident_situation                                 0.000000\n",
       "traffic_control_at_the_time_of_an_accident                       0.000000\n",
       "local_administration_priority_in_traffic                         0.000000\n",
       "specific_location_and_objects_in_the_location_of_the_accident    0.000000\n",
       "directional_rates                                                0.000000\n",
       "number_of_vehicles_involved                                      0.000000\n",
       "location_of_the_traffic_accident                                 0.000000\n",
       "vehicle_type                                                     0.000000\n",
       "vehicle_brand                                                    0.999894\n",
       "year_of_manufacture                                              0.000000\n",
       "vehicle_owner                                                    0.999886\n",
       "skid                                                             0.999788\n",
       "vehicle_sequel                                                   0.982873\n",
       "leakage_of_transported_materials                                 0.999813\n",
       "way_of_releasing_persons_from_the_vehicle                        0.999821\n",
       "direction_of_movement                                            0.999690\n",
       "damage_to_the_vehicle(in_hundred_crowns)                         0.000000\n",
       "driver_category                                                  0.996307\n",
       "driver_condition                                                 0.999853\n",
       "driver_external_influence                                        0.999853\n",
       "city                                                             0.111287\n",
       "street                                                           0.256672\n",
       "road_type                                                        0.000000\n",
       "location                                                         0.000000\n",
       "dtype: float64"
      ]
     },
     "execution_count": 124,
     "metadata": {},
     "output_type": "execute_result"
    }
   ],
   "source": [
    "df[df['vehicle_type'] == 'undetected, driver drove off'].isna().mean()"
   ]
  },
  {
   "cell_type": "markdown",
   "metadata": {
    "id": "M9hNoAaztscl"
   },
   "source": [
    "видим что 17 процентов пропущенных значений это когда водитель уехал с места происшествия"
   ]
  },
  {
   "cell_type": "code",
   "execution_count": 125,
   "metadata": {
    "colab": {
     "base_uri": "https://localhost:8080/"
    },
    "id": "RDzOKp7at2je",
    "outputId": "ce3bb35c-14a3-42d0-85de-28830b400dfc"
   },
   "outputs": [
    {
     "data": {
      "text/plain": [
       "Index(['vehicle_brand', 'vehicle_owner', 'skid', 'vehicle_sequel',\n",
       "       'leakage_of_transported_materials',\n",
       "       'way_of_releasing_persons_from_the_vehicle', 'direction_of_movement',\n",
       "       'driver_category', 'driver_condition', 'driver_external_influence'],\n",
       "      dtype='object')"
      ]
     },
     "execution_count": 125,
     "metadata": {},
     "output_type": "execute_result"
    }
   ],
   "source": [
    "col_filtr = df[df['vehicle_type'] == 'undetected, driver drove off'].isna().mean() >= 0.98\n",
    "cols = df.columns[col_filtr]\n",
    "cols"
   ]
  },
  {
   "cell_type": "code",
   "execution_count": 126,
   "metadata": {
    "id": "Z_aQbiMa98cv"
   },
   "outputs": [],
   "source": [
    "df[cols] = df[cols].astype(str)\n",
    "df.loc[df['vehicle_type'] == 'undetected, driver drove off',cols] = 'undetected, driver drove off'\n",
    "df[cols] = df[cols].astype('category')"
   ]
  },
  {
   "cell_type": "code",
   "execution_count": 127,
   "metadata": {
    "colab": {
     "base_uri": "https://localhost:8080/"
    },
    "id": "iA9sNfZx_ytY",
    "outputId": "d50ebe44-5cc4-4fc5-eb05-7cee9d01e9f3"
   },
   "outputs": [
    {
     "data": {
      "text/plain": [
       "id                                                               0.008964\n",
       "communication_kind                                               0.008964\n",
       "date                                                             0.008964\n",
       "time                                                             0.008964\n",
       "accident_kind                                                    0.008964\n",
       "crash_kind                                                       0.008964\n",
       "fixed_precaution_kind                                            0.008964\n",
       "injury                                                           0.008964\n",
       "cause_of_accident                                                0.008964\n",
       "alcohol                                                          0.008964\n",
       "main_cause_of_accident                                           0.008964\n",
       "killed_persons                                                   0.008964\n",
       "severely_injured_persons                                         0.008964\n",
       "slightly_injured_persons                                         0.008964\n",
       "total_material_damage                                            0.008964\n",
       "road_surface_type                                                0.011845\n",
       "condition_of_vehicle_surface                                     0.008967\n",
       "condition_of_communication                                       0.008967\n",
       "weather_conditions_at_the_time_of_accident                       0.008967\n",
       "visibility                                                       0.008967\n",
       "visibility_ratios                                                0.008967\n",
       "communication_division                                           0.008964\n",
       "communication_accident_situation                                 0.008964\n",
       "traffic_control_at_the_time_of_an_accident                       0.008964\n",
       "local_administration_priority_in_traffic                         0.008964\n",
       "specific_location_and_objects_in_the_location_of_the_accident    0.008964\n",
       "directional_rates                                                0.008964\n",
       "number_of_vehicles_involved                                      0.008964\n",
       "location_of_the_traffic_accident                                 0.008964\n",
       "vehicle_type                                                     0.011005\n",
       "vehicle_brand                                                    0.000000\n",
       "year_of_manufacture                                              0.000000\n",
       "vehicle_owner                                                    0.000000\n",
       "skid                                                             0.000000\n",
       "vehicle_sequel                                                   0.000000\n",
       "leakage_of_transported_materials                                 0.000000\n",
       "way_of_releasing_persons_from_the_vehicle                        0.000000\n",
       "direction_of_movement                                            0.000000\n",
       "damage_to_the_vehicle(in_hundred_crowns)                         0.008964\n",
       "driver_category                                                  0.000000\n",
       "driver_condition                                                 0.000000\n",
       "driver_external_influence                                        0.000000\n",
       "city                                                             0.324849\n",
       "street                                                           0.446960\n",
       "road_type                                                        0.008964\n",
       "location                                                         0.008964\n",
       "dtype: float64"
      ]
     },
     "execution_count": 127,
     "metadata": {},
     "output_type": "execute_result"
    }
   ],
   "source": [
    "df.isna().mean()"
   ]
  },
  {
   "cell_type": "code",
   "execution_count": 132,
   "metadata": {},
   "outputs": [],
   "source": [
    "df = df[df['id'].notna()].copy()"
   ]
  },
  {
   "cell_type": "code",
   "execution_count": 133,
   "metadata": {
    "colab": {
     "base_uri": "https://localhost:8080/"
    },
    "id": "lYsF2AfQgWWo",
    "outputId": "76a09db7-cb63-4c8c-95ef-38e002461f2f"
   },
   "outputs": [
    {
     "name": "stdout",
     "output_type": "stream",
     "text": [
      "['1' '2' '01' '02' '03' '05' '04' '3' '4' '5' '6' '06' '07' '8' '09' '08'\n",
      " '7' '11' '20' '10' '17' '25' '15' '12' '14']\n"
     ]
    }
   ],
   "source": [
    "print(df['number_of_vehicles_involved'].unique())\n",
    "df['number_of_vehicles_involved'] = df['number_of_vehicles_involved'].astype('int16')"
   ]
  },
  {
   "cell_type": "code",
   "execution_count": 135,
   "metadata": {
    "id": "fpgoBsF4_VdP"
   },
   "outputs": [],
   "source": [
    "df.to_csv('../data/processed/road_accidents_czechia_2016_2022.csv',index=False)"
   ]
  },
  {
   "cell_type": "markdown",
   "metadata": {
    "id": "9CxaFMxmB8yx"
   },
   "source": [
    "# Pedestrian"
   ]
  },
  {
   "cell_type": "code",
   "execution_count": 136,
   "metadata": {
    "id": "QPg-XG9PZBRd"
   },
   "outputs": [
    {
     "data": {
      "text/html": [
       "<div>\n",
       "<style scoped>\n",
       "    .dataframe tbody tr th:only-of-type {\n",
       "        vertical-align: middle;\n",
       "    }\n",
       "\n",
       "    .dataframe tbody tr th {\n",
       "        vertical-align: top;\n",
       "    }\n",
       "\n",
       "    .dataframe thead th {\n",
       "        text-align: right;\n",
       "    }\n",
       "</style>\n",
       "<table border=\"1\" class=\"dataframe\">\n",
       "  <thead>\n",
       "    <tr style=\"text-align: right;\">\n",
       "      <th></th>\n",
       "      <th>p1</th>\n",
       "      <th>p29</th>\n",
       "      <th>p30</th>\n",
       "      <th>p31</th>\n",
       "      <th>p32</th>\n",
       "    </tr>\n",
       "  </thead>\n",
       "  <tbody>\n",
       "    <tr>\n",
       "      <th>0</th>\n",
       "      <td>000030226275</td>\n",
       "      <td>1</td>\n",
       "      <td>1</td>\n",
       "      <td>3</td>\n",
       "      <td>10</td>\n",
       "    </tr>\n",
       "    <tr>\n",
       "      <th>1</th>\n",
       "      <td>000030228673</td>\n",
       "      <td>2</td>\n",
       "      <td>1</td>\n",
       "      <td>3</td>\n",
       "      <td>06</td>\n",
       "    </tr>\n",
       "    <tr>\n",
       "      <th>2</th>\n",
       "      <td>000030229624</td>\n",
       "      <td>3</td>\n",
       "      <td>1</td>\n",
       "      <td>1</td>\n",
       "      <td>04</td>\n",
       "    </tr>\n",
       "    <tr>\n",
       "      <th>3</th>\n",
       "      <td>000032220930</td>\n",
       "      <td>2</td>\n",
       "      <td>1</td>\n",
       "      <td>5</td>\n",
       "      <td>03</td>\n",
       "    </tr>\n",
       "    <tr>\n",
       "      <th>4</th>\n",
       "      <td>000033225303</td>\n",
       "      <td>3</td>\n",
       "      <td>2</td>\n",
       "      <td>1</td>\n",
       "      <td>04</td>\n",
       "    </tr>\n",
       "  </tbody>\n",
       "</table>\n",
       "</div>"
      ],
      "text/plain": [
       "             p1 p29 p30 p31 p32\n",
       "0  000030226275   1   1   3  10\n",
       "1  000030228673   2   1   3  06\n",
       "2  000030229624   3   1   1  04\n",
       "3  000032220930   2   1   5  03\n",
       "4  000033225303   3   2   1  04"
      ]
     },
     "execution_count": 136,
     "metadata": {},
     "output_type": "execute_result"
    }
   ],
   "source": [
    "df_pedestrian.head()"
   ]
  },
  {
   "cell_type": "code",
   "execution_count": 137,
   "metadata": {
    "id": "0Z_4qhuMctbi"
   },
   "outputs": [],
   "source": [
    "df_pedestrian = df_pedestrian.dropna()\n",
    "df_pedestrian = df_pedestrian.astype(int)"
   ]
  },
  {
   "cell_type": "code",
   "execution_count": 138,
   "metadata": {
    "id": "pxL6uBAOaRZq"
   },
   "outputs": [
    {
     "data": {
      "text/html": [
       "<div>\n",
       "<style scoped>\n",
       "    .dataframe tbody tr th:only-of-type {\n",
       "        vertical-align: middle;\n",
       "    }\n",
       "\n",
       "    .dataframe tbody tr th {\n",
       "        vertical-align: top;\n",
       "    }\n",
       "\n",
       "    .dataframe thead th {\n",
       "        text-align: right;\n",
       "    }\n",
       "</style>\n",
       "<table border=\"1\" class=\"dataframe\">\n",
       "  <thead>\n",
       "    <tr style=\"text-align: right;\">\n",
       "      <th></th>\n",
       "      <th>column</th>\n",
       "      <th>value</th>\n",
       "      <th>description</th>\n",
       "      <th>wider</th>\n",
       "    </tr>\n",
       "  </thead>\n",
       "  <tbody>\n",
       "    <tr>\n",
       "      <th>29</th>\n",
       "      <td>p32</td>\n",
       "      <td>7</td>\n",
       "      <td>chůze, stání na chodníku</td>\n",
       "      <td>stání na chodníku</td>\n",
       "    </tr>\n",
       "    <tr>\n",
       "      <th>30</th>\n",
       "      <td>p32</td>\n",
       "      <td>8</td>\n",
       "      <td>chůze po správné straně</td>\n",
       "      <td>po správné straně</td>\n",
       "    </tr>\n",
       "    <tr>\n",
       "      <th>31</th>\n",
       "      <td>p32</td>\n",
       "      <td>9</td>\n",
       "      <td>chůze  po nesprávné straně</td>\n",
       "      <td>po nesprávné straně</td>\n",
       "    </tr>\n",
       "    <tr>\n",
       "      <th>32</th>\n",
       "      <td>p32</td>\n",
       "      <td>10</td>\n",
       "      <td>přecházení  mimo přechod (20 a více metrů od p...</td>\n",
       "      <td>mimo přechod (20 a více metrů od přechodu)</td>\n",
       "    </tr>\n",
       "    <tr>\n",
       "      <th>33</th>\n",
       "      <td>p32</td>\n",
       "      <td>0</td>\n",
       "      <td>jiná situace</td>\n",
       "      <td></td>\n",
       "    </tr>\n",
       "  </tbody>\n",
       "</table>\n",
       "</div>"
      ],
      "text/plain": [
       "   column  value                                        description  \\\n",
       "29    p32      7                           chůze, stání na chodníku   \n",
       "30    p32      8                            chůze po správné straně   \n",
       "31    p32      9                         chůze  po nesprávné straně   \n",
       "32    p32     10  přecházení  mimo přechod (20 a více metrů od p...   \n",
       "33    p32      0                                       jiná situace   \n",
       "\n",
       "                                         wider  \n",
       "29                           stání na chodníku  \n",
       "30                           po správné straně  \n",
       "31                         po nesprávné straně  \n",
       "32  mimo přechod (20 a více metrů od přechodu)  \n",
       "33                                              "
      ]
     },
     "execution_count": 138,
     "metadata": {},
     "output_type": "execute_result"
    }
   ],
   "source": [
    "pedestrian_values = pd.read_csv(f'{transformation_path}pedestrian_col_values.csv',sep=';')\n",
    "pedestrian_values = pedestrian_values.fillna('')\n",
    "pedestrian_values['description'] = pedestrian_values['description'] + ' ' + pedestrian_values['wider']\n",
    "pedestrian_values['description'] = pedestrian_values['description'].str.strip()\n",
    "\n",
    "pedestrian_values.tail()"
   ]
  },
  {
   "cell_type": "code",
   "execution_count": 139,
   "metadata": {
    "id": "WpmnrzUYM8bH"
   },
   "outputs": [],
   "source": [
    "pedestrian_values['description'] = pedestrian_values['description'].apply(lambda x: translator.translate_text(str(x),target_lang='EN-US').text)"
   ]
  },
  {
   "cell_type": "code",
   "execution_count": 140,
   "metadata": {
    "id": "RIEdAgnIb3SY"
   },
   "outputs": [],
   "source": [
    "for col in df_pedestrian.columns:\n",
    "  if col in pedestrian_values['column'].values:\n",
    "    map_values = dict(pedestrian_values[pedestrian_values['column'] == col][['value','description']].values)\n",
    "    df_pedestrian[col] = df_pedestrian[col].map(map_values)"
   ]
  },
  {
   "cell_type": "code",
   "execution_count": 141,
   "metadata": {
    "id": "06e0-OHAdKta"
   },
   "outputs": [
    {
     "data": {
      "text/html": [
       "<div>\n",
       "<style scoped>\n",
       "    .dataframe tbody tr th:only-of-type {\n",
       "        vertical-align: middle;\n",
       "    }\n",
       "\n",
       "    .dataframe tbody tr th {\n",
       "        vertical-align: top;\n",
       "    }\n",
       "\n",
       "    .dataframe thead th {\n",
       "        text-align: right;\n",
       "    }\n",
       "</style>\n",
       "<table border=\"1\" class=\"dataframe\">\n",
       "  <thead>\n",
       "    <tr style=\"text-align: right;\">\n",
       "      <th></th>\n",
       "      <th>p1</th>\n",
       "      <th>p29</th>\n",
       "      <th>p30</th>\n",
       "      <th>p31</th>\n",
       "      <th>p32</th>\n",
       "    </tr>\n",
       "  </thead>\n",
       "  <tbody>\n",
       "    <tr>\n",
       "      <th>0</th>\n",
       "      <td>30226275</td>\n",
       "      <td>man</td>\n",
       "      <td>good no adverse circumstances were found</td>\n",
       "      <td>sudden entry into the roadway from the sidewal...</td>\n",
       "      <td>Crossing outside the crossing (20 metres or mo...</td>\n",
       "    </tr>\n",
       "    <tr>\n",
       "      <th>1</th>\n",
       "      <td>30228673</td>\n",
       "      <td>Woman</td>\n",
       "      <td>good no adverse circumstances were found</td>\n",
       "      <td>sudden entry into the roadway from the sidewal...</td>\n",
       "      <td>crossing just in front of or behind a parked v...</td>\n",
       "    </tr>\n",
       "    <tr>\n",
       "      <th>2</th>\n",
       "      <td>30229624</td>\n",
       "      <td>child (up to 15 years)</td>\n",
       "      <td>good no adverse circumstances were found</td>\n",
       "      <td>correct, appropriate</td>\n",
       "      <td>crossing at a marked crossing</td>\n",
       "    </tr>\n",
       "    <tr>\n",
       "      <th>3</th>\n",
       "      <td>32220930</td>\n",
       "      <td>Woman</td>\n",
       "      <td>good no adverse circumstances were found</td>\n",
       "      <td>confused, hasty, indecisive behaviour</td>\n",
       "      <td>pedestrian entering the roadway near the cross...</td>\n",
       "    </tr>\n",
       "    <tr>\n",
       "      <th>4</th>\n",
       "      <td>33225303</td>\n",
       "      <td>child (up to 15 years)</td>\n",
       "      <td>inattention, distraction</td>\n",
       "      <td>correct, appropriate</td>\n",
       "      <td>crossing at a marked crossing</td>\n",
       "    </tr>\n",
       "  </tbody>\n",
       "</table>\n",
       "</div>"
      ],
      "text/plain": [
       "         p1                     p29                                       p30  \\\n",
       "0  30226275                     man  good no adverse circumstances were found   \n",
       "1  30228673                   Woman  good no adverse circumstances were found   \n",
       "2  30229624  child (up to 15 years)  good no adverse circumstances were found   \n",
       "3  32220930                   Woman  good no adverse circumstances were found   \n",
       "4  33225303  child (up to 15 years)                  inattention, distraction   \n",
       "\n",
       "                                                 p31  \\\n",
       "0  sudden entry into the roadway from the sidewal...   \n",
       "1  sudden entry into the roadway from the sidewal...   \n",
       "2                               correct, appropriate   \n",
       "3              confused, hasty, indecisive behaviour   \n",
       "4                               correct, appropriate   \n",
       "\n",
       "                                                 p32  \n",
       "0  Crossing outside the crossing (20 metres or mo...  \n",
       "1  crossing just in front of or behind a parked v...  \n",
       "2                      crossing at a marked crossing  \n",
       "3  pedestrian entering the roadway near the cross...  \n",
       "4                      crossing at a marked crossing  "
      ]
     },
     "execution_count": 141,
     "metadata": {},
     "output_type": "execute_result"
    }
   ],
   "source": [
    "df_pedestrian.head()"
   ]
  },
  {
   "cell_type": "code",
   "execution_count": 143,
   "metadata": {},
   "outputs": [],
   "source": [
    "df_pedestrian.columns = ['id','pedestrian_category','pedestrian_condition',\n",
    "                         'pedestrian_behaviour','situation_at_the_point_of_accident']"
   ]
  },
  {
   "cell_type": "code",
   "execution_count": 144,
   "metadata": {
    "id": "NIE68mQSPAM_"
   },
   "outputs": [],
   "source": [
    "df_pedestrian.to_csv('../data/processed/pedestrian.csv',index=False)"
   ]
  },
  {
   "cell_type": "code",
   "execution_count": null,
   "metadata": {
    "id": "ZEntwDEsQeVE"
   },
   "outputs": [],
   "source": []
  }
 ],
 "metadata": {
  "colab": {
   "provenance": []
  },
  "kernelspec": {
   "display_name": "Python 3 (ipykernel)",
   "language": "python",
   "name": "python3"
  },
  "language_info": {
   "codemirror_mode": {
    "name": "ipython",
    "version": 3
   },
   "file_extension": ".py",
   "mimetype": "text/x-python",
   "name": "python",
   "nbconvert_exporter": "python",
   "pygments_lexer": "ipython3",
   "version": "3.11.6"
  }
 },
 "nbformat": 4,
 "nbformat_minor": 4
}
